{
  "nbformat": 4,
  "nbformat_minor": 0,
  "metadata": {
    "colab": {
      "provenance": [],
      "authorship_tag": "ABX9TyMXJW1wkgt8W/ZtXv7DQSvh",
      "include_colab_link": true
    },
    "kernelspec": {
      "name": "python3",
      "display_name": "Python 3"
    },
    "language_info": {
      "name": "python"
    }
  },
  "cells": [
    {
      "cell_type": "markdown",
      "metadata": {
        "id": "view-in-github",
        "colab_type": "text"
      },
      "source": [
        "<a href=\"https://colab.research.google.com/github/sanjinaa2/git/blob/master/python.ipynb\" target=\"_parent\"><img src=\"https://colab.research.google.com/assets/colab-badge.svg\" alt=\"Open In Colab\"/></a>"
      ]
    },
    {
      "cell_type": "code",
      "source": [
        "#flashcards Quiz\n",
        "import random\n",
        "\n",
        "questions = (\"Virtual Environment\", \"Types of Variables\")\n",
        "answers = (\"Isolated Space\", \"Three\")\n",
        "\n",
        "def ask_questions(questions):\n",
        "  questions, answers = random.choice(questions)\n",
        "\n",
        "\n"
      ],
      "metadata": {
        "id": "PHsBGWBtFeM1"
      },
      "execution_count": null,
      "outputs": []
    },
    {
      "cell_type": "code",
      "source": [
        "import random\n",
        "\n",
        "def roll_dice():\n",
        "  return random.randint(1, 6)\n",
        "sum = 0\n",
        "for i in range(5):\n",
        "  sum += roll_dice()\n",
        "  print(f\"sum = {sum}\")\n",
        "\n",
        "print(f\"Final sum = {sum}\")"
      ],
      "metadata": {
        "colab": {
          "base_uri": "https://localhost:8080/"
        },
        "id": "l-tlsXLuERQk",
        "outputId": "ba1905a4-5ee3-481f-f150-8cd87baf1e79",
        "collapsed": true
      },
      "execution_count": null,
      "outputs": [
        {
          "output_type": "stream",
          "name": "stdout",
          "text": [
            "sum = 3\n",
            "sum = 8\n",
            "sum = 14\n",
            "sum = 18\n",
            "sum = 23\n",
            "Final sum = 23\n"
          ]
        }
      ]
    },
    {
      "cell_type": "code",
      "source": [
        "import random\n",
        "\n",
        "first_dice = random.randint(1, 6)\n",
        "second_dice = random.randint(1, 6)\n",
        "third_dice = random.randint(1, 6)\n",
        "fourth_dice = random.randint(1, 6)\n",
        "fifth_dice = random.randint(1, 6)\n",
        "\n",
        "print (first_dice, second_dice, third_dice, fourth_dice, fifth_dice)\n",
        "\n",
        "sum = first_dice + second_dice + third_dice + fourth_dice + fifth_dice\n",
        "\n",
        "print(sum)"
      ],
      "metadata": {
        "colab": {
          "base_uri": "https://localhost:8080/"
        },
        "id": "rPyQEUjcDnV3",
        "outputId": "5c9d0610-2f6f-4e48-d0a5-2a95bbafd05f",
        "collapsed": true
      },
      "execution_count": null,
      "outputs": [
        {
          "output_type": "stream",
          "name": "stdout",
          "text": [
            "4 3 2 6 5\n",
            "20\n"
          ]
        }
      ]
    },
    {
      "cell_type": "code",
      "source": [
        "#reverse\n",
        "\n",
        "name = \"sanjina\"\n",
        "\n",
        "print(name[::-1])"
      ],
      "metadata": {
        "colab": {
          "base_uri": "https://localhost:8080/"
        },
        "id": "nPLRy4n1ATsD",
        "outputId": "b95bb91b-c853-4bf7-b812-fae91e42b4a4",
        "collapsed": true
      },
      "execution_count": null,
      "outputs": [
        {
          "output_type": "stream",
          "name": "stdout",
          "text": [
            "snia\n"
          ]
        }
      ]
    },
    {
      "cell_type": "code",
      "source": [
        "fruits = [\n",
        "    \"apple\",\n",
        "    \"banana\",\n",
        "    \"watermelon\"\n",
        "]\n",
        "print(fruits[-1])\n"
      ],
      "metadata": {
        "colab": {
          "base_uri": "https://localhost:8080/"
        },
        "id": "baYrRrkW_13A",
        "outputId": "8809fd18-3642-489b-b427-82c071b85812",
        "collapsed": true
      },
      "execution_count": null,
      "outputs": [
        {
          "output_type": "stream",
          "name": "stdout",
          "text": [
            "watermelon\n"
          ]
        }
      ]
    },
    {
      "cell_type": "code",
      "source": [
        "#Calculator"
      ],
      "metadata": {
        "id": "tIaGNAXE-usd"
      },
      "execution_count": null,
      "outputs": []
    },
    {
      "cell_type": "code",
      "source": [
        "user_input = input(\"Enter a string: \")\n",
        "print(count_vowels(user_input))"
      ],
      "metadata": {
        "id": "l3rycsx9-R1V",
        "colab": {
          "base_uri": "https://localhost:8080/"
        },
        "outputId": "ed5a93ef-fe22-40c8-8132-a4300d08b5f0",
        "collapsed": true
      },
      "execution_count": null,
      "outputs": [
        {
          "output_type": "stream",
          "name": "stdout",
          "text": [
            "Enter a string: hello\n",
            "2\n"
          ]
        }
      ]
    },
    {
      "cell_type": "code",
      "source": [
        "#Counting vowels\n",
        "\n",
        "def count_vowels(user_string):\n",
        "  vowels = \"aeiouAEIOU\"\n",
        "  count = 0\n",
        "  for char in user_string:\n",
        "    if char in vowels:\n",
        "      count += 1\n",
        "  return count\n",
        "\n"
      ],
      "metadata": {
        "id": "vhmJV8gZ8L_5"
      },
      "execution_count": null,
      "outputs": []
    },
    {
      "cell_type": "code",
      "source": [
        "a,b = 1,2\n",
        "\n",
        "def do_homework(*args,**kwargs):\n",
        "  print(f\"{args[0]} pen = {kwargs['a']} is writing in {kwargs['b']}\")"
      ],
      "metadata": {
        "id": "9vXk1-oP6uqW"
      },
      "execution_count": null,
      "outputs": []
    },
    {
      "cell_type": "code",
      "source": [
        "user_input = float(input(\"Enter temperature: \"))\n",
        "user_choice = input(\"\"\"\n",
        "1. Celsius to Fahrenheit\n",
        "2. Fahrenheit to Celsius\n",
        "\"\"\")\n",
        "\n",
        "if user_choice == \"1\":\n",
        "  temperature(user_input)"
      ],
      "metadata": {
        "id": "oIomgFOc-kH6"
      },
      "execution_count": null,
      "outputs": []
    },
    {
      "cell_type": "code",
      "source": [
        "#Conversion Celsius to Fahrenheit\n",
        "\n",
        "def temperature(Celsius):\n",
        "  fahrenheit = (Celsius * 1.8) + 32\n",
        "  print(f\"{Celsius} Celsius = {fahrenheit} Fahrenheit\")\n",
        "  return fahrenheit\n",
        "\n",
        "def temperature(Fahrenheit):\n",
        "  celsius = (Fahrenheit - 32) / 1.8\n",
        "  print(f\"{Fahrenheit} Fahrenheit = {celsius} Celsius\")\n",
        "  return celsius"
      ],
      "metadata": {
        "id": "qQruromG8bLp"
      },
      "execution_count": null,
      "outputs": []
    },
    {
      "cell_type": "code",
      "source": [
        "#Simple Interest or Compound Interest\n",
        "\n",
        "user_choice = input(\"\"\"\n",
        "1. Simple Interest\n",
        "2. Compound Interest\n",
        "\"\"\")\n",
        "\n",
        "principal = float(input(\"Enter principal: \"))\n",
        "rate = float(input(\"Enter rate: \"))\n",
        "time = float(input(\"Enter time: \"))\n",
        "\n",
        "if user_choice == \"1\":\n",
        "    SI = (principal * rate * time) / 100\n",
        "    print(\"Simple Interest:\", SI)\n",
        "elif user_choice == \"2\":\n",
        "    amount = principal * (pow((1 + rate / 100), time))\n",
        "    CI = amount - principal\n",
        "    print(\"Compound interest is\", CI)"
      ],
      "metadata": {
        "id": "6sC37w_38QdT",
        "colab": {
          "base_uri": "https://localhost:8080/"
        },
        "collapsed": true,
        "outputId": "6bd90b64-ae49-4f53-dbb8-e7165aea681f"
      },
      "execution_count": null,
      "outputs": [
        {
          "output_type": "stream",
          "name": "stdout",
          "text": [
            "\n",
            "1. Simple Interest  \n",
            "2. Compound Interest\n",
            "2\n",
            "Enter principal: 2000\n",
            "Enter rate: 12\n",
            "Enter time: 2\n",
            "Compound interest is 508.8000000000002\n"
          ]
        }
      ]
    },
    {
      "cell_type": "code",
      "source": [
        "#Unit Converter\n",
        "\n",
        "user_choices = input (\"\"\"\n",
        "1. KM to Miles\n",
        "2. Miles to KM\n",
        "3. Centimeter to Inch\n",
        "4. Inch to Centimeter\n",
        "\"\"\")\n",
        "\n",
        "if user_choices == \"1\":\n",
        "  user_input = float(input(\"Enter KM: \"))\n",
        "  result = user_input * 0.621371\n",
        "  print(f\"{user_input} KM = {result} Miles\")\n",
        "\n",
        "if user_choices == \"2\":\n",
        "  user_input = float(input(\"Enter Miles: \"))\n",
        "  result = user_input * 1.60934\n",
        "  print(f\"{user_input} Miles = {result} KM\")\n",
        "\n",
        "if user_choices == \"3\":\n",
        "  user_input = float(input(\"Enter Centimeters: \"))\n",
        "  result = user_input * 0.393701\n",
        "  print(f\"{user_input} Centimeter = {result} Inches\")\n",
        "\n",
        "if user_choices == \"4\":\n",
        "  user_input = float(input(\"Enter Inches: \"))\n",
        "  result = user_input * 2.54\n",
        "  print(f\"{user_input} Inches = {result} Centimeters\")"
      ],
      "metadata": {
        "colab": {
          "base_uri": "https://localhost:8080/"
        },
        "id": "iLzHPbrz4hBW",
        "outputId": "e4a38e2a-d779-4eaf-8873-56e14108205c",
        "collapsed": true
      },
      "execution_count": null,
      "outputs": [
        {
          "output_type": "stream",
          "name": "stdout",
          "text": [
            "\n",
            "1. KM to Miles\n",
            "2. Miles to KM\n",
            "3. Centimeter to Inch\n",
            "4. Inch to Centimeter\n",
            "\n",
            "1\n",
            "Enter KM: 50\n",
            "50.0 KM = 31.068550000000002 Miles\n"
          ]
        }
      ]
    },
    {
      "cell_type": "code",
      "source": [
        "a=1\n",
        "if(a==1):\n",
        "  print(\"a is 1\")\n",
        "elif (a==2):\n",
        "  print(\"a is 2\")\n",
        "elif(a==3):\n",
        "  print(\"a is 3\")\n",
        "else:\n",
        "  print(\"a is not 1\")\n",
        "\n",
        "  while(a < 3):\n",
        "    print(f\"a = {a}\")\n",
        "    a += 1"
      ],
      "metadata": {
        "colab": {
          "base_uri": "https://localhost:8080/"
        },
        "id": "1SdT990WyTHo",
        "outputId": "a5e699ca-d12a-4372-d7e0-e1b70b571ce8",
        "collapsed": true
      },
      "execution_count": null,
      "outputs": [
        {
          "output_type": "stream",
          "name": "stdout",
          "text": [
            "a is 1\n"
          ]
        }
      ]
    },
    {
      "cell_type": "code",
      "source": [
        "#Guess Number Game\n",
        "import random\n",
        "\n",
        "a = random.randint(1, 100)\n",
        "while(True):\n",
        "  user_number = int(input(\"Guess any number from 1 to 100: \"))\n",
        "  if(a == user_number):\n",
        "    print(\"you win\")\n",
        "    break\n",
        "  elif(a > user_number):\n",
        "    print(\"Enter higher number\")\n",
        "  else:\n",
        "    print(\"Enter lower number\")"
      ],
      "metadata": {
        "colab": {
          "base_uri": "https://localhost:8080/"
        },
        "id": "BqEO-gU-1oPy",
        "outputId": "703755f7-5925-4b34-98b5-80d5fb5a5694",
        "collapsed": true
      },
      "execution_count": null,
      "outputs": [
        {
          "output_type": "stream",
          "name": "stdout",
          "text": [
            "Guess any number from 1 to 100: 2\n",
            "Enter higher number\n",
            "Guess any number from 1 to 100: 50\n",
            "Enter higher number\n",
            "Guess any number from 1 to 100: 60\n",
            "Enter higher number\n",
            "Guess any number from 1 to 100: 79\n",
            "Enter higher number\n",
            "Guess any number from 1 to 100: 100\n",
            "Enter lower number\n",
            "Guess any number from 1 to 100: 90\n",
            "Enter lower number\n",
            "Guess any number from 1 to 100: 85\n",
            "Enter lower number\n",
            "Guess any number from 1 to 100: 80\n",
            "Enter higher number\n",
            "Guess any number from 1 to 100: 81\n",
            "Enter higher number\n",
            "Guess any number from 1 to 100: 82\n",
            "Enter higher number\n",
            "Guess any number from 1 to 100: 83\n",
            "Enter higher number\n",
            "Guess any number from 1 to 100: 84\n",
            "you win\n"
          ]
        }
      ]
    },
    {
      "cell_type": "code",
      "source": [
        "#Game Simple Number\n",
        "\n",
        "user_number = int(input(\"Enter your number:\"))\n",
        "result_number = user_number * 2\n",
        "print(f\"Double number = {result_number}\")\n",
        "result_number += 10\n",
        "print(f\"Add 10 = {result_number}\")\n",
        "result_number = result_number / 2\n",
        "print(f\"Divide 2 = {result_number}\")\n",
        "result_number = result_number - user_number\n",
        "print(f\"Final result ={result_number}\")"
      ],
      "metadata": {
        "id": "fbUQUgdIwoNN",
        "colab": {
          "base_uri": "https://localhost:8080/"
        },
        "outputId": "b53e1125-7dc6-4936-b92a-6ce4238d3a2d",
        "collapsed": true
      },
      "execution_count": null,
      "outputs": [
        {
          "output_type": "stream",
          "name": "stdout",
          "text": [
            "Enter your number:2\n",
            "Double number = 4\n",
            "Add 10 = 14\n",
            "Divide 2 = 7.0\n",
            "Final result =5.0\n"
          ]
        }
      ]
    },
    {
      "cell_type": "code",
      "execution_count": null,
      "metadata": {
        "id": "ioDr_ivdsG85",
        "colab": {
          "base_uri": "https://localhost:8080/"
        },
        "collapsed": true,
        "outputId": "e7c5197a-4ff5-4d95-9ad3-d54c61d2d90c"
      },
      "outputs": [
        {
          "output_type": "stream",
          "name": "stdout",
          "text": [
            "Enter number: 3\n",
            "3\n",
            "st number= 3\n",
            "st number = 3\n",
            "st number = 3\n"
          ]
        }
      ],
      "source": [
        "student_no = int(input(\"Enter number: \"))\n",
        "print((student_no))\n",
        "print(\"st number= \" +str(student_no))\n",
        "print(f\"st number = {student_no}\")\n",
        "print(\"st number = {}\".format(student_no))"
      ]
    }
  ]
}